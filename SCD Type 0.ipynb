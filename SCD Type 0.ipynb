{
 "cells": [
  {
   "cell_type": "markdown",
   "id": "87e77681",
   "metadata": {},
   "source": [
    "# SCD Type 0 : Just insert the data"
   ]
  },
  {
   "cell_type": "markdown",
   "id": "571da8be",
   "metadata": {},
   "source": [
    "Applying it using spark SQL"
   ]
  },
  {
   "cell_type": "code",
   "execution_count": null,
   "id": "040259d5",
   "metadata": {},
   "outputs": [],
   "source": [
    "from pyspark.sql import SparkSession\n",
    "\n",
    "spark = SparkSession.builder.appName(\"SCD Type 0 Example\").getOrCreate()\n",
    "\n",
    "# Load the dimension data from a CSV file\n",
    "dimension_data = spark.read.csv(\"dimension_data.csv\", header=True, inferSchema=True)\n",
    "\n",
    "# Insert the dimension data into a Spark SQL table\n",
    "dimension_data.write.mode(\"overwrite\").saveAsTable(\"dimension_table\")"
   ]
  },
  {
   "cell_type": "code",
   "execution_count": null,
   "id": "1a3dc357",
   "metadata": {},
   "outputs": [],
   "source": []
  },
  {
   "cell_type": "markdown",
   "id": "949bf0e7",
   "metadata": {},
   "source": [
    "Applying it using Delta table"
   ]
  },
  {
   "cell_type": "code",
   "execution_count": null,
   "id": "9769d2f9",
   "metadata": {},
   "outputs": [],
   "source": [
    "from pyspark.sql import SparkSession\n",
    "\n",
    "spark = SparkSession.builder.appName(\"SCD Type 0 Example\").getOrCreate()\n",
    "\n",
    "# Load the dimension data from a CSV file\n",
    "dimension_data = spark.read.csv(\"dimension_data.csv\", header=True, inferSchema=True)\n",
    "\n",
    "# Insert the dimension data into a Delta table\n",
    "dimension_data.write.format(\"delta\").mode(\"overwrite\").save(\"delta_table\")"
   ]
  },
  {
   "cell_type": "code",
   "execution_count": null,
   "id": "fd848ea2",
   "metadata": {},
   "outputs": [],
   "source": []
  },
  {
   "cell_type": "markdown",
   "id": "fb0b3f9a",
   "metadata": {},
   "source": [
    "Applying it using pyspark"
   ]
  },
  {
   "cell_type": "code",
   "execution_count": null,
   "id": "1cd0fc6a",
   "metadata": {},
   "outputs": [],
   "source": [
    "from pyspark.sql import SparkSession\n",
    "\n",
    "spark = SparkSession.builder.appName(\"SCD Type 0 Example\").getOrCreate()\n",
    "\n",
    "# Load the dimension data from a CSV file\n",
    "dimension_data = spark.read.csv(\"dimension_data.csv\", header=True, inferSchema=True)\n",
    "\n",
    "# Insert the dimension data into a PySpark table\n",
    "dimension_data.write.mode(\"overwrite\").saveAsTable(\"dimension_table\")\n"
   ]
  },
  {
   "cell_type": "code",
   "execution_count": null,
   "id": "4602c473",
   "metadata": {},
   "outputs": [],
   "source": []
  }
 ],
 "metadata": {
  "kernelspec": {
   "display_name": "Python 3 (ipykernel)",
   "language": "python",
   "name": "python3"
  },
  "language_info": {
   "codemirror_mode": {
    "name": "ipython",
    "version": 3
   },
   "file_extension": ".py",
   "mimetype": "text/x-python",
   "name": "python",
   "nbconvert_exporter": "python",
   "pygments_lexer": "ipython3",
   "version": "3.10.6"
  }
 },
 "nbformat": 4,
 "nbformat_minor": 5
}
